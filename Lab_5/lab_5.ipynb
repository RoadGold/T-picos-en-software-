{
 "cells": [
  {
   "cell_type": "markdown",
   "metadata": {},
   "source": [
    "Ejemplo 1: Validacion"
   ]
  },
  {
   "cell_type": "code",
   "execution_count": 2,
   "metadata": {},
   "outputs": [],
   "source": [
    "import functools\n",
    "\n",
    "# Aspecto que valida que los números sean positivos\n",
    "def validate_positive_numbers(func):\n",
    "    @functools.wraps(func)\n",
    "    def wrapper(*args, **kwargs):\n",
    "        # Validar argumentos posicionales\n",
    "        for arg in args:\n",
    "            if isinstance(arg, (int, float)) and arg < 0:\n",
    "                raise ValueError(f\"El número {arg} no es positivo.\")\n",
    "        # Validar argumentos de palabra clave\n",
    "        for key, value in kwargs.items():\n",
    "            if isinstance(value, (int, float)) and value < 0:\n",
    "                raise ValueError(f\"El valor {value} de \\\"{key}\\\" no es positivo.\")\n",
    "        return func(*args, **kwargs)\n",
    "    return wrapper\n"
   ]
  },
  {
   "cell_type": "code",
   "execution_count": 3,
   "metadata": {},
   "outputs": [
    {
     "name": "stdout",
     "output_type": "stream",
     "text": [
      "628.318\n",
      "200\n",
      "450.0\n"
     ]
    }
   ],
   "source": [
    "# Clase Calculadora de Areas\n",
    "class calculadora_areas:\n",
    "    @validate_positive_numbers\n",
    "    def area_circulo(self, radio):\n",
    "        return 2 * 3.14159 * radio**2\n",
    "\n",
    "    @validate_positive_numbers\n",
    "    def area_rectangulo(self, base, altura):\n",
    "        return base * altura\n",
    "\n",
    "    @validate_positive_numbers\n",
    "    def area_trapecio(self, base_menor, base_mayor, altura):\n",
    "        return altura * (base_mayor + base_menor) / 2\n",
    "\n",
    "# Utilizar la clase calculadora_areas\n",
    "calc = calculadora_areas()\n",
    "print(calc.area_circulo(10))\n",
    "print(calc.area_rectangulo(10, 20))\n",
    "print(calc.area_trapecio(10, 20, 30))\n"
   ]
  },
  {
   "cell_type": "markdown",
   "metadata": {},
   "source": [
    "Ejemplo 2: Seguridad"
   ]
  },
  {
   "cell_type": "code",
   "execution_count": 2,
   "metadata": {},
   "outputs": [],
   "source": [
    "import functools\n",
    "\n",
    "# Diccionario de usuarios válidos\n",
    "users = {'admin': '12345'}\n",
    "\n",
    "# Decorador de autenticación\n",
    "def authenticate():\n",
    "    def decorator(func):\n",
    "        @functools.wraps(func)\n",
    "        def wrapper(*args, **kwargs):\n",
    "            username = input(\"Ingrese usuario: \")\n",
    "            password = input(\"Ingrese contraseña: \")\n",
    "            if username in users and users[username] == password:\n",
    "                return func(*args, **kwargs)\n",
    "            else:\n",
    "                raise PermissionError(\"Usuario o contraseña inválidos\")\n",
    "        return wrapper\n",
    "    return decorator\n"
   ]
  },
  {
   "cell_type": "code",
   "execution_count": 3,
   "metadata": {},
   "outputs": [],
   "source": [
    "@authenticate()\n",
    "class Configuracion:\n",
    "    def __init__(self):\n",
    "        self.igv = 0.18\n",
    "        self.uit = 5150\n",
    "\n",
    "    def __str__(self):\n",
    "        return f\"IGV : {self.igv*100} % \\nUIT : S/. {self.uit}\"\n",
    "\n",
    "    def modificar_igv(self, igv):\n",
    "        self.igv = igv\n",
    "\n",
    "    def modificar_uit(self, uit):\n",
    "        self.uit = uit\n",
    "\n",
    "conf = Configuracion()\n",
    "conf.modificar_igv(0.17)\n",
    "conf.modificar_uit(5000)\n",
    "print(conf)\n"
   ]
  },
  {
   "cell_type": "markdown",
   "metadata": {},
   "source": [
    "Ejemplo 3: Registro"
   ]
  },
  {
   "cell_type": "code",
   "execution_count": 9,
   "metadata": {},
   "outputs": [],
   "source": [
    "import functools\n",
    "import datetime\n",
    "\n",
    "def registro(func):\n",
    "    @functools.wraps(func)\n",
    "    def wrapper_registro(*args, **kwargs):\n",
    "        resultado = func(*args, **kwargs)\n",
    "        accion = func.__name__\n",
    "        time = datetime.datetime.now()\n",
    "        if accion == 'agregar_nota':\n",
    "            nota = args[1]\n",
    "            print(f\"[LOG: {time}] Se agrego la nota: {nota}\")\n",
    "        elif accion == 'eliminar_nota':\n",
    "            nota = args[1]\n",
    "            if resultado:\n",
    "                print(f\"[LOG: {time}] Se elimino la nota: {nota}\")\n",
    "            else:\n",
    "                print(f\"[LOG: {time}] Se intento eliminar la nota: {nota}\")\n",
    "        return resultado\n",
    "    return wrapper_registro\n"
   ]
  },
  {
   "cell_type": "code",
   "execution_count": 10,
   "metadata": {},
   "outputs": [
    {
     "name": "stdout",
     "output_type": "stream",
     "text": [
      "[LOG: 2024-06-12 00:26:08.043677] Se agrego la nota: 5\n",
      "[LOG: 2024-06-12 00:26:08.043677] Se agrego la nota: 12\n",
      "[LOG: 2024-06-12 00:26:08.043677] Se agrego la nota: 14\n",
      "[LOG: 2024-06-12 00:26:08.043677] Se agrego la nota: 16\n",
      "[LOG: 2024-06-12 00:26:08.043677] Se elimino la nota: 5\n",
      "[LOG: 2024-06-12 00:26:08.043677] Se intento eliminar la nota: 11\n",
      "[12, 14, 16]\n"
     ]
    }
   ],
   "source": [
    "class registro_notas:\n",
    "    def __init__(self, docente=''):\n",
    "        self.docente = docente\n",
    "        self.notas = []\n",
    "\n",
    "    @registro\n",
    "    def agregar_nota(self, nota):\n",
    "        self.notas.append(nota)\n",
    "\n",
    "    @registro\n",
    "    def eliminar_nota(self, nota):\n",
    "        if nota in self.notas:\n",
    "            self.notas.remove(nota)\n",
    "            return True\n",
    "        else:\n",
    "            return False\n",
    "\n",
    "    def __str__(self):\n",
    "        return str(self.notas)\n",
    "\n",
    "notas_matematicas = registro_notas()\n",
    "notas_matematicas.agregar_nota(5)\n",
    "notas_matematicas.agregar_nota(12)\n",
    "notas_matematicas.agregar_nota(14)\n",
    "notas_matematicas.agregar_nota(16)\n",
    "notas_matematicas.eliminar_nota(5)\n",
    "notas_matematicas.eliminar_nota(11)\n",
    "print(notas_matematicas)\n"
   ]
  },
  {
   "cell_type": "markdown",
   "metadata": {},
   "source": [
    "Ejemplo 4: Transacciones"
   ]
  },
  {
   "cell_type": "code",
   "execution_count": 12,
   "metadata": {},
   "outputs": [],
   "source": [
    "import functools\n",
    "\n",
    "# Decorador de transaccion\n",
    "def transactional(func):\n",
    "    @functools.wraps(func)\n",
    "    def wrapper_transactional(*args, **kwargs):\n",
    "        # Iniciar transaccion\n",
    "        print(\"\\nIniciando transaccion\")\n",
    "        try:\n",
    "            # Ejecutar la funci ́on decorada\n",
    "            result = func(*args, **kwargs)\n",
    "            cantidad = args[1]\n",
    "            accion = func.__name__\n",
    "            mi_almacen.transacciones.append((accion, cantidad))\n",
    "            # Finalizar transacci on con exito\n",
    "            print(\"Transaccion exitosa\")\n",
    "            return result\n",
    "        except Exception as e:\n",
    "            # Manejar excepci ́on y revertir transacci ́on\n",
    "            print(f\"Error en transaccion: {e}\")\n",
    "            print(\"Revirtiendo transaccion\")\n",
    "            mi_almacen.revertir_operaciones()\n",
    "            raise\n",
    "        finally:\n",
    "            # Finalizar transacci ́on\n",
    "            print(\"Finalizando transaccion\")\n",
    "            return wrapper_transactional\n"
   ]
  },
  {
   "cell_type": "code",
   "execution_count": 13,
   "metadata": {},
   "outputs": [],
   "source": [
    "class Almacen:\n",
    "    def __init__(self, stock=0):\n",
    "        self.stock = stock\n",
    "        self.transacciones = [] # Lista para registrar transacciones\n",
    "\n",
    "    @transactional\n",
    "    def ingreso(self, cantidad):\n",
    "        if cantidad <= 0:\n",
    "            raise ValueError(\"La cantidad de productos debe ser positiva\")\n",
    "        self.stock += cantidad\n",
    "        print(f\"Ingreso: {cantidad}. Nuevo stock: {self.stock}\")\n",
    "\n",
    "    @transactional\n",
    "    def salida(self, cantidad):\n",
    "        if cantidad > self.stock:\n",
    "            raise ValueError(\"Stock insuficiente\")\n",
    "        self.stock -= cantidad\n",
    "        print(f\"Salida: {cantidad}. Nuevo stock: {self.stock}\")\n",
    "\n",
    "    def revertir_operaciones(self):\n",
    "        # Revertir todas las transacciones registradas\n",
    "        while self.transacciones:\n",
    "            tipo, cantidad = self.transacciones.pop()\n",
    "            if tipo == 'ingreso':\n",
    "                self.stock -= cantidad\n",
    "            elif tipo == 'salida':\n",
    "                self.stock += cantidad\n"
   ]
  },
  {
   "cell_type": "code",
   "execution_count": 14,
   "metadata": {},
   "outputs": [
    {
     "name": "stdout",
     "output_type": "stream",
     "text": [
      "\n",
      "Stock inicial: 100\n"
     ]
    }
   ],
   "source": [
    "mi_almacen = Almacen(100)\n",
    "print(f\"\\nStock inicial: {mi_almacen.stock}\")"
   ]
  },
  {
   "cell_type": "code",
   "execution_count": 15,
   "metadata": {},
   "outputs": [
    {
     "name": "stdout",
     "output_type": "stream",
     "text": [
      "Operacion fallida: 'NoneType' object is not callable\n",
      "\n",
      "Stock final: 100\n"
     ]
    }
   ],
   "source": [
    "try:\n",
    "    mi_almacen.ingreso(50)\n",
    "    mi_almacen.salida(30)\n",
    "    mi_almacen.salida(150)\n",
    "except Exception as e:\n",
    "    print(f\"Operacion fallida: {e}\")\n",
    "print(f\"\\nStock final: {mi_almacen.stock}\")"
   ]
  }
 ],
 "metadata": {
  "kernelspec": {
   "display_name": "Python 3",
   "language": "python",
   "name": "python3"
  },
  "language_info": {
   "codemirror_mode": {
    "name": "ipython",
    "version": 3
   },
   "file_extension": ".py",
   "mimetype": "text/x-python",
   "name": "python",
   "nbconvert_exporter": "python",
   "pygments_lexer": "ipython3",
   "version": "3.11.5"
  },
  "orig_nbformat": 4
 },
 "nbformat": 4,
 "nbformat_minor": 2
}
